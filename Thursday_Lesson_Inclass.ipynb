{
 "cells": [
  {
   "cell_type": "markdown",
   "metadata": {},
   "source": [
    "# Object-Oriented-Programming (OOP)"
   ]
  },
  {
   "cell_type": "markdown",
   "metadata": {},
   "source": [
    "## Tasks Today:\n",
    "\n",
    "1) <b>Creating a Class (Initializing/Declaring)</b> <br>\n",
    "2) <b>Using a Class (Instantiating)</b> <br>\n",
    " &nbsp;&nbsp;&nbsp;&nbsp; a) Creating One Instance <br>\n",
    " &nbsp;&nbsp;&nbsp;&nbsp; b) Creating Multiple Instances <br>\n",
    " &nbsp;&nbsp;&nbsp;&nbsp; c) In-Class Exercise #1 - Create a Class 'Car' and instantiate three different makes of cars <br>\n",
    "3) <b>The \\__init\\__() Method</b> <br>\n",
    " &nbsp;&nbsp;&nbsp;&nbsp; a) The 'self' Attribute <br>\n",
    "4) <b>Class Attributes</b> <br>\n",
    " &nbsp;&nbsp;&nbsp;&nbsp; a) Initializing Attributes <br>\n",
    " &nbsp;&nbsp;&nbsp;&nbsp; b) Setting an Attribute Outside of the \\__init\\__() Method <br>\n",
    " &nbsp;&nbsp;&nbsp;&nbsp; c) Setting Defaults for Attributes <br>\n",
    " &nbsp;&nbsp;&nbsp;&nbsp; d) Accessing Class Attributes <br>\n",
    " &nbsp;&nbsp;&nbsp;&nbsp; e) Changing Class Attributes <br>\n",
    " &nbsp;&nbsp;&nbsp;&nbsp; f) In-Class Exercise #2 - Add a color and wheels attribute to your 'Car' class <br>\n",
    "5) <b>Class Methods</b> <br>\n",
    " &nbsp;&nbsp;&nbsp;&nbsp; a) Creating <br>\n",
    " &nbsp;&nbsp;&nbsp;&nbsp; b) Calling <br>\n",
    " &nbsp;&nbsp;&nbsp;&nbsp; c) Modifying an Attribute's Value Through a Method <br>\n",
    " &nbsp;&nbsp;&nbsp;&nbsp; d) Incrementing an Attribute's Value Through a Method <br>\n",
    " &nbsp;&nbsp;&nbsp;&nbsp; e) In-Class Exercise #3 - Add a method that prints the cars color and wheel number, then call them <br>\n",
    "6) <b>Inheritance</b> <br>\n",
    " &nbsp;&nbsp;&nbsp;&nbsp; a) Syntax for Inheriting from a Parent Class <br>\n",
    " &nbsp;&nbsp;&nbsp;&nbsp; b) The \\__init\\__() Method for a Child Class (super()) <br>\n",
    " &nbsp;&nbsp;&nbsp;&nbsp; c) Defining Attributes and Methods for the Child Class <br>\n",
    " &nbsp;&nbsp;&nbsp;&nbsp; d) Method Overriding <br>\n",
    " &nbsp;&nbsp;&nbsp;&nbsp; e) In-Class Exercise #4 - Create a class 'Ford' that inherits from 'Car' class and initialize it as a Blue Ford Explorer with 4 wheels using the super() method <br>\n",
    "7) <b>Classes as Attributes</b> <br>\n",
    "8) <b>Exercises</b> <br>\n",
    " &nbsp;&nbsp;&nbsp;&nbsp; a) Exercise #1 - Turn the shopping cart program from yesterday into an object-oriented program <br>"
   ]
  },
  {
   "cell_type": "markdown",
   "metadata": {},
   "source": [
    "## Creating a Class (Initializing/Declaring)\n",
    "<p>When creating a class, function, or even a variable you are initializing that object. Initializing and Declaring occur at the same time in Python, whereas in lower level languages you have to declare an object before initializing it. This is the first step in the process of using a class.</p>"
   ]
  },
  {
   "cell_type": "code",
   "execution_count": 2,
   "metadata": {},
   "outputs": [],
   "source": [
    "class Car():\n",
    "    wheels = 7\n",
    "    color = \"a nice chesnut bay\"\n",
    "#these values can now only be used if you call up this class. "
   ]
  },
  {
   "cell_type": "markdown",
   "metadata": {},
   "source": [
    "## Using a Class (Instantiating)\n",
    "<p>The process of creating a class is called <i>Instantiating</i>. Each time you create a variable of that type of class, it is referred to as an <i>Instance</i> of that class. This is the second step in the process of using a class.</p>"
   ]
  },
  {
   "cell_type": "markdown",
   "metadata": {},
   "source": [
    "##### Creating One Instance"
   ]
  },
  {
   "cell_type": "code",
   "execution_count": 3,
   "metadata": {},
   "outputs": [],
   "source": [
    "ford = Car()"
   ]
  },
  {
   "cell_type": "markdown",
   "metadata": {},
   "source": [
    "##### Creating Multiple Instances"
   ]
  },
  {
   "cell_type": "code",
   "execution_count": 4,
   "metadata": {},
   "outputs": [
    {
     "data": {
      "text/plain": [
       "'a nice chesnut bay'"
      ]
     },
     "execution_count": 4,
     "metadata": {},
     "output_type": "execute_result"
    }
   ],
   "source": [
    "chevy = Car()\n",
    "honda = Car()\n",
    "porsche = Car()\n",
    "\n",
    "porsche.color"
   ]
  },
  {
   "cell_type": "markdown",
   "metadata": {},
   "source": [
    "##### In-Class Exercise #1 - Create a Class 'Car' and Instantiate three different makes of cars"
   ]
  },
  {
   "cell_type": "code",
   "execution_count": 6,
   "metadata": {},
   "outputs": [
    {
     "name": "stdout",
     "output_type": "stream",
     "text": [
      "surprisingly sparse angry moose\n"
     ]
    }
   ],
   "source": [
    "class Car():\n",
    "    wreck_reason = \"angry moose\"\n",
    "    windshield = \"very broken\"\n",
    "    bloodstains = \"surprisingly sparse\"\n",
    "    will_drive = \"will not drive but good for moose jerky.\"\n",
    "    \n",
    "model_t = Car()\n",
    "nova = Car()\n",
    "fiat = Car()\n",
    "\n",
    "print(fiat.bloodstains, nova.wreck_reason)\n"
   ]
  },
  {
   "cell_type": "markdown",
   "metadata": {},
   "source": [
    "## The \\__init\\__() Method <br>\n",
    "<p>This method is used in almost every created class, and called only once upon the creation of the class instance. This method will initialize all variables needed for the object.</p>"
   ]
  },
  {
   "cell_type": "code",
   "execution_count": 28,
   "metadata": {},
   "outputs": [
    {
     "name": "stdout",
     "output_type": "stream",
     "text": [
      "a loud bugaling\n",
      "curly\n",
      "1\n",
      "19\n"
     ]
    }
   ],
   "source": [
    "class Car():\n",
    "    engine = \"50 screaming leprachauns\"\n",
    "    \n",
    "    def __init__(self, wheels):\n",
    "        self.wheels = wheels\n",
    "        self.color = \"polychromatic\"\n",
    "ford = Car(25)\n",
    "ford.wheels\n",
    "#the name of the variable and the name of the bit in parense will be the same. #Self is always there as a default. \n",
    "#trying to create a new class myself.\n",
    "\n",
    "class Horse():\n",
    "    hooves = \"three and a half\"\n",
    "    \n",
    "    def __init__(self, furtype):\n",
    "        self.furtype = furtype\n",
    "        self.sound = \"a loud bugaling\"\n",
    "        \n",
    "beauty = Horse(\"curly\")\n",
    "\n",
    "print(beauty.sound)\n",
    "print(beauty.furtype)\n",
    "#what sasha did on the board.\n",
    "class Toy():\n",
    "    kind = \"car\"\n",
    "    def __init__(self, rooftop, horn, wheels, bells, doors):\n",
    "        self.rooftop = rooftop\n",
    "        self.horn = horn\n",
    "        self.wheels = wheels\n",
    "        self.bells = bells\n",
    "        self.doors = doors\n",
    "        \n",
    "toyota = Toy(1, 8, 3, 19, 1)\n",
    "print(toyota.rooftop)\n",
    "print(toyota.bells)\n",
    "#you can think of the def __init__ kind of like a blueprint. \n",
    "#this is essentially a more efficient way of everything we've been doing. \n",
    "\n"
   ]
  },
  {
   "cell_type": "markdown",
   "metadata": {},
   "source": [
    "##### The 'self' Attribute <br>\n",
    "<p>This attribute is required to keep track of specific instance's attributes. Without the self attribute, the program would not know how to reference or keep track of an instance's attributes.</p>"
   ]
  },
  {
   "cell_type": "code",
   "execution_count": null,
   "metadata": {},
   "outputs": [],
   "source": [
    "# see above"
   ]
  },
  {
   "cell_type": "markdown",
   "metadata": {},
   "source": [
    "## Class Attributes <br>\n",
    "<p>While variables are inside of a class, they are referred to as attributes and not variables. When someone says 'attribute' you know they're speaking about a class. Attributes can be initialized through the init method, or outside of it.</p>"
   ]
  },
  {
   "cell_type": "markdown",
   "metadata": {},
   "source": [
    "##### Initializing Attributes"
   ]
  },
  {
   "cell_type": "code",
   "execution_count": null,
   "metadata": {},
   "outputs": [],
   "source": [
    "# see above"
   ]
  },
  {
   "cell_type": "markdown",
   "metadata": {},
   "source": [
    "##### Accessing Class Attributes"
   ]
  },
  {
   "cell_type": "code",
   "execution_count": 29,
   "metadata": {
    "scrolled": true
   },
   "outputs": [
    {
     "data": {
      "text/plain": [
       "'too many to count.'"
      ]
     },
     "execution_count": 29,
     "metadata": {},
     "output_type": "execute_result"
    }
   ],
   "source": [
    "class Horse():\n",
    "    legs = \"too many to count.\"\n",
    "    \n",
    "    \n",
    "henry = Horse()#this is initializing the class. \n",
    "henry.legs"
   ]
  },
  {
   "cell_type": "markdown",
   "metadata": {},
   "source": [
    "##### Setting an Attribute Outside of the \\__init\\__() Method"
   ]
  },
  {
   "cell_type": "code",
   "execution_count": 33,
   "metadata": {},
   "outputs": [
    {
     "data": {
      "text/plain": [
       "10"
      ]
     },
     "execution_count": 33,
     "metadata": {},
     "output_type": "execute_result"
    }
   ],
   "source": [
    "class Pet():\n",
    "    def __init__(self, legs, fur, ears): #<-- that's considered setting an attribute outside of the init function.\n",
    "        self.legs = legs\n",
    "        self.fur = fur\n",
    "        self.ears = ears\n",
    "        \n",
    "desmond = Pet(4, \"soft\", 10)\n",
    "desmond.ears\n"
   ]
  },
  {
   "cell_type": "markdown",
   "metadata": {},
   "source": [
    "##### Setting Defaults for Attributes"
   ]
  },
  {
   "cell_type": "code",
   "execution_count": 34,
   "metadata": {},
   "outputs": [
    {
     "data": {
      "text/plain": [
       "'good'"
      ]
     },
     "execution_count": 34,
     "metadata": {},
     "output_type": "execute_result"
    }
   ],
   "source": [
    "class Yogurt():\n",
    "    smell = \"feet\" #this here will be a constant every time. it will not change unless we tell it to change specifically\n",
    "    \n",
    "    def __init__(self): #no parameters here because you can make them be default.\n",
    "        self.color = \"white\"\n",
    "        self.fruit = \"durian\"\n",
    "        self.granola = \"oat\"\n",
    "        self.taste = \"good\"\n",
    "        #you do an init to construct your class and put class attributes on things. \n",
    "        \n",
    "chobani = Yogurt()\n",
    "chobani.taste\n",
    "\n",
    "## to change the class attributes..."
   ]
  },
  {
   "cell_type": "markdown",
   "metadata": {},
   "source": [
    "##### Changing Class Attributes <br>\n",
    "<p>Keep in mind there are global class attributes and then there are attributes only available to each class instance which won't effect other classes.</p>"
   ]
  },
  {
   "cell_type": "code",
   "execution_count": 35,
   "metadata": {},
   "outputs": [
    {
     "data": {
      "text/plain": [
       "'feet'"
      ]
     },
     "execution_count": 35,
     "metadata": {},
     "output_type": "execute_result"
    }
   ],
   "source": [
    "chobani.smell "
   ]
  },
  {
   "cell_type": "code",
   "execution_count": 36,
   "metadata": {},
   "outputs": [
    {
     "name": "stdout",
     "output_type": "stream",
     "text": [
      "roses\n"
     ]
    }
   ],
   "source": [
    "chobani.smell = \"roses\"\n",
    "print(chobani.smell)"
   ]
  },
  {
   "cell_type": "markdown",
   "metadata": {},
   "source": [
    "##### In-Class Exercise #2 - Add a doors and seats attribute to your 'Car' class then print out two different instances with different doors and seats"
   ]
  },
  {
   "cell_type": "code",
   "execution_count": 45,
   "metadata": {},
   "outputs": [
    {
     "name": "stdout",
     "output_type": "stream",
     "text": [
      "50\n",
      "0.5\n",
      "vantablack\n",
      "yellow\n",
      "0\n",
      "50\n",
      "purple\n"
     ]
    }
   ],
   "source": [
    "class Car():\n",
    "    color = \"vantablack\"\n",
    "    def __init__(self, doors, seats):\n",
    "        self.doors = doors\n",
    "        self.seats = seats\n",
    "        \n",
    "lemony = Car(50, .5)\n",
    "print(lemony.doors)\n",
    "print(lemony.seats)\n",
    "print(lemony.color)\n",
    "lemony.color = \"yellow\"\n",
    "print(lemony.color)\n",
    "\n",
    "aubergine = Car(0, 50)\n",
    "print(aubergine.doors)\n",
    "print(aubergine.seats)\n",
    "aubergine.color = \"purple\"\n",
    "print(aubergine.color)\n"
   ]
  },
  {
   "cell_type": "code",
   "execution_count": 46,
   "metadata": {},
   "outputs": [
    {
     "name": "stdout",
     "output_type": "stream",
     "text": [
      "4 5\n",
      "2 2\n"
     ]
    }
   ],
   "source": [
    "#what joel has for the above.\n",
    "\n",
    "class Car():\n",
    "    def __init__(self, doors, seats):\n",
    "        self.doors = doors\n",
    "        self.seats = seats\n",
    "        \n",
    "honda = Car(4, 5)\n",
    "tesla_roadster = Car(2,2)\n",
    "print(honda.doors, honda.seats)\n",
    "print(tesla_roadster.doors, tesla_roadster.seats)"
   ]
  },
  {
   "cell_type": "markdown",
   "metadata": {},
   "source": [
    "## Class Methods <br>\n",
    "<p>While inside of a class, functions are referred to as 'methods'. If you hear someone mention methods, they're speaking about classes. Methods are essentially functions, but only callable on the instances of a class.</p>"
   ]
  },
  {
   "cell_type": "markdown",
   "metadata": {},
   "source": [
    "##### Creating"
   ]
  },
  {
   "cell_type": "code",
   "execution_count": 59,
   "metadata": {},
   "outputs": [
    {
     "name": "stdout",
     "output_type": "stream",
     "text": [
      "Your baaaaaag is a size Large\n",
      "This is what is in your baaaaag. Thank ewe for shopping here\n",
      "This is what is in your baaaaag. Thank ewe for shopping here\n",
      "bread\n"
     ]
    }
   ],
   "source": [
    "class ShoppingBag():\n",
    "    def __init__(self, handles, capacity, items):\n",
    "        self.handles = handles\n",
    "        self.capacity = capacity\n",
    "        self.items = items\n",
    "    \n",
    "    def showShoppingBag(self): #self keyword is important and must go inside every method. if you don't have it\n",
    "        #it doesn't know what you're referencing. you'll get a \"takes zero positional arguments but has one\" which means\n",
    "        #sit's trying to take a positional argument which it doesn't have. \n",
    "        print(\"This is what is in your baaaaag. Thank ewe for shopping here\")\n",
    "        self.items\n",
    "        for i in self.items:\n",
    "            print(i)\n",
    "            \n",
    "    def showCapacity(self):\n",
    "        print(\"Your baaaaaag is a size {}\".format(self.capacity))\n",
    "        \n",
    "    def addToShoppingBag(self, products):\n",
    "        self.items.append(products)\n",
    "        \n",
    "        \n",
    "aldi = ShoppingBag(2, \"Large\", [])\n",
    "aldi.showCapacity()\n",
    "aldi.showShoppingBag()\n",
    "aldi.addToShoppingBag(\"bread\") #if you want to input something you can't put it where bread is.\n",
    "aldi.showShoppingBag()"
   ]
  },
  {
   "cell_type": "code",
   "execution_count": 71,
   "metadata": {},
   "outputs": [
    {
     "name": "stdout",
     "output_type": "stream",
     "text": [
      "Your baaaaaag is a size Large\n",
      "This is what is in your baaaaag. Thank ewe for shopping here\n",
      "What do you wanna buy? malort\n",
      "This is what is in your baaaaag. Thank ewe for shopping here\n",
      "malort\n"
     ]
    }
   ],
   "source": [
    "#how to add an input function.\n",
    "#you don't need to separately define a list because you've already defined it as what the items are going to be.\n",
    "\n",
    "class ShoppingBag():\n",
    "    def __init__(self, handles, capacity, items):\n",
    "        self.handles = handles\n",
    "        self.capacity = capacity\n",
    "        self.items = items\n",
    "    \n",
    "    def showShoppingBag(self): #self keyword is important and must go inside every method. if you don't have it\n",
    "        #it doesn't know what you're referencing. you'll get a \"takes zero positional arguments but has one\" which means\n",
    "        #sit's trying to take a positional argument which it doesn't have. \n",
    "        print(\"This is what is in your baaaaag. Thank ewe for shopping here\")\n",
    "        self.items\n",
    "        for i in self.items:\n",
    "            print(i)\n",
    "            \n",
    "    def showCapacity(self):\n",
    "        print(\"Your baaaaaag is a size {}\".format(self.capacity))\n",
    "        \n",
    "    def addToShoppingBag(self):\n",
    "        products = input(\"What do you wanna buy? \")\n",
    "        self.items.append(products)\n",
    "        \n",
    "    def changeBagCapacity(self, new_capacity):\n",
    "        self.capacity = new_capacity #this is how you can change up the capacity by re-assigning the value\n",
    "        \n",
    "    def increaseCapacity(self, increase):\n",
    "        if self.capacity == isinstance(self.capacity, str):\n",
    "            print(\"we don't take strings here.\")\n",
    "        elif self.capacity == isinstance(self.capacity, int):\n",
    "            self.capacity += 10\n",
    "         \n",
    "         \n",
    "aldi = ShoppingBag(2, \"Large\", [])\n",
    "aldi.showCapacity()\n",
    "aldi.showShoppingBag()\n",
    "#aldi.addToShoppingBag(\"bread\") #if you want to input something you can't put it where bread is.\n",
    "aldi.addToShoppingBag()\n",
    "aldi.showShoppingBag()\n",
    "#above is what they mean by calling a method. all functions inside of classes are called methods."
   ]
  },
  {
   "cell_type": "markdown",
   "metadata": {},
   "source": [
    "##### Calling"
   ]
  },
  {
   "cell_type": "code",
   "execution_count": null,
   "metadata": {},
   "outputs": [],
   "source": [
    "# see above. "
   ]
  },
  {
   "cell_type": "markdown",
   "metadata": {},
   "source": [
    "##### Modifying an Attribute's Value Through a Method"
   ]
  },
  {
   "cell_type": "code",
   "execution_count": 70,
   "metadata": {},
   "outputs": [
    {
     "name": "stdout",
     "output_type": "stream",
     "text": [
      "Your baaaaaag is a size Large\n",
      "Capacity after change is: \n",
      "Your baaaaaag is a size three football fields.\n"
     ]
    }
   ],
   "source": [
    "aldi.showCapacity()\n",
    "print(\"Capacity after change is: \")\n",
    "aldi.changeBagCapacity(\"three football fields.\")\n",
    "aldi.showCapacity()\n",
    "#you make changes by re-assigning whatever value to the new one, essentially."
   ]
  },
  {
   "cell_type": "markdown",
   "metadata": {},
   "source": [
    "##### Incrementing an Attribute's Value Through a Method"
   ]
  },
  {
   "cell_type": "code",
   "execution_count": 78,
   "metadata": {},
   "outputs": [
    {
     "name": "stdout",
     "output_type": "stream",
     "text": [
      "Your baaaaaag is a size 10\n"
     ]
    }
   ],
   "source": [
    "# proper way of incrementing an attribute\n",
    "marianos = ShoppingBag(2, 10, [])\n",
    "marianos.increaseCapacity(42)\n",
    "marianos.showCapacity()"
   ]
  },
  {
   "cell_type": "markdown",
   "metadata": {},
   "source": [
    "##### In-Class Exercise #3 - Add a method that takes in three parameters of year, doors and seats and prints out a formatted print statement with make, model, year, seats, and doors"
   ]
  },
  {
   "cell_type": "code",
   "execution_count": 4,
   "metadata": {},
   "outputs": [
    {
     "name": "stdout",
     "output_type": "stream",
     "text": [
      "The Hunley was a steel submarine built in 1865. It had 1 door and room for 8.\n"
     ]
    }
   ],
   "source": [
    "class Submarines():\n",
    "    def __init__(self, make, model):\n",
    "        Submarines.make = make\n",
    "        Submarines.model = model\n",
    "    def printInfo(self, year, doors, seats):\n",
    "        print(\"The {} was a {} submarine built in {}. It had {} door and room for {}.\".format(self.make, self.model, year, doors, seats))\n",
    "    \n",
    "hunley = Submarines(\"Hunley\", \"steel\")\n",
    "hunley.printInfo(1865, 1, 8)"
   ]
  },
  {
   "cell_type": "markdown",
   "metadata": {},
   "source": [
    "## Inheritance <br>\n",
    "<p>You can create a child-parent relationship between two classes by using inheritance. What this allows you to do is have overriding methods, but also inherit traits from the parent class. Think of it as an actual parent and child, the child will inherit the parent's genes, as will the classes in OOP</p>"
   ]
  },
  {
   "cell_type": "markdown",
   "metadata": {},
   "source": [
    "##### Syntax for Inheriting from a Parent Class"
   ]
  },
  {
   "cell_type": "code",
   "execution_count": 15,
   "metadata": {},
   "outputs": [
    {
     "name": "stdout",
     "output_type": "stream",
     "text": [
      "This dog is brownish, and his name is Chloe.\n"
     ]
    }
   ],
   "source": [
    "class Animal():\n",
    "    acceleration = 9.8\n",
    "    \n",
    "    def __init__(self, name, species, legs=4):\n",
    "    #legs=4 is setting a default value.\n",
    "        self.name = name\n",
    "        self.species = species\n",
    "        self.legs = legs\n",
    "    \n",
    "    def makSound(self):\n",
    "        print(\"a mad sort of honking\")\n",
    "\n",
    "class Dog(Animal): \n",
    "#animal is now the parent of Dog.\n",
    "    speed = 25\n",
    "    def __init__(self, name, species, color, legs=4):\n",
    "        #this is how you pass on the animal stuff to the dog.\n",
    "        Animal.__init__(self, name, species, legs)\n",
    "        self.color = color\n",
    "        #everything else has been set but color based on the\n",
    "        #animal class above it.\n",
    "        \n",
    "    def makeSound(self):\n",
    "        print(\"a gentle whirring\")\n",
    "        \n",
    "    def printInfo(self):\n",
    "        print(\"This dog is {}, and his name is {}.\".format(self.color, self.name))\n",
    "        \n",
    "cat = Animal(\"Ojobi\", \"Streetcat\")\n",
    "dog = Dog(\"Chloe\", \"Rescue\", \"brownish\")\n",
    "\n",
    "dog.printInfo()\n"
   ]
  },
  {
   "cell_type": "markdown",
   "metadata": {},
   "source": [
    "##### The \\__init\\__() Method for a Child Class - super()"
   ]
  },
  {
   "cell_type": "code",
   "execution_count": 20,
   "metadata": {
    "scrolled": true
   },
   "outputs": [
    {
     "name": "stdout",
     "output_type": "stream",
     "text": [
      "This dog is brownish, and his name is Chloe.\n",
      "a mad sort of honking\n",
      "a gentle whirring\n"
     ]
    }
   ],
   "source": [
    "class Animal():\n",
    "    acceleration = 9.8\n",
    "    \n",
    "    def __init__(self, name, species, legs=4):\n",
    "    #legs=4 is setting a default value.\n",
    "        self.name = name\n",
    "        self.species = species\n",
    "        self.legs = legs\n",
    "    \n",
    "    def makeSound(self):\n",
    "        print(\"a mad sort of honking\")\n",
    "\n",
    "class Dog(Animal): \n",
    "#animal is now the parent of Dog.\n",
    "    speed = 25\n",
    "    def __init__(self, name, species, color, legs=4):\n",
    "        #if you put the super function on it takes the parent and you do it without self.\n",
    "        super().__init__(name, species, legs)\n",
    "        self.color = color\n",
    "        #everything else has been set but color based on the\n",
    "        #animal class above it.\n",
    "        \n",
    "    def makeSound(self):\n",
    "        print(\"a gentle whirring\")\n",
    "        \n",
    "    def printInfo(self):\n",
    "        print(\"This dog is {}, and his name is {}.\".format(self.color, self.name))\n",
    "        \n",
    "cat = Animal(\"Ojobi\", \"Streetcat\")\n",
    "dog = Dog(\"Chloe\", \"Rescue\", \"brownish\")\n",
    "\n",
    "dog.printInfo()\n",
    "cat.makeSound()\n",
    "dog.makeSound()\n",
    "#the above is an example of method overriding. \n",
    "\n",
    "#there is a layer of abstraction here, meaning it's saying look at the inherited parent and just take that. that's\n",
    "#what super(). does. "
   ]
  },
  {
   "cell_type": "markdown",
   "metadata": {},
   "source": [
    "##### Defining Attributes and Methods for the Child Class"
   ]
  },
  {
   "cell_type": "code",
   "execution_count": null,
   "metadata": {},
   "outputs": [],
   "source": []
  },
  {
   "cell_type": "markdown",
   "metadata": {},
   "source": [
    "##### Method Overriding"
   ]
  },
  {
   "cell_type": "code",
   "execution_count": null,
   "metadata": {},
   "outputs": [],
   "source": []
  },
  {
   "cell_type": "markdown",
   "metadata": {},
   "source": [
    "##### In-Class Exercise #4 - Create a class 'Ford' that inherits from 'Car' class and initialize it as a Blue Ford Explorer with 4 wheels using the super() method, add a method to car which prints 'this is a car' and create an overriding method in class Ford that prints the information on the car"
   ]
  },
  {
   "cell_type": "code",
   "execution_count": 9,
   "metadata": {},
   "outputs": [
    {
     "name": "stdout",
     "output_type": "stream",
     "text": [
      "This is a blue Ford Explorer with 4 wheels. It's named Henrietta.\n"
     ]
    }
   ],
   "source": [
    "class Car():\n",
    "    \n",
    "    def __init__(self, color, model, wheels):\n",
    "        self.color = color\n",
    "        self.model = model\n",
    "        self.wheels = wheels\n",
    "        \n",
    "class Ford(Car):\n",
    "    def __init__(self, color, model, wheels, name):\n",
    "        super().__init__(color, model, wheels)\n",
    "        self.name = name\n",
    "        \n",
    "    def printAttribute(self):\n",
    "        print(\"This is a {} {} with {} wheels. It's named {}.\".format(self.color, self.model, self.wheels, self.name))\n",
    "        \n",
    "henrietta = Ford(\"blue\", \"Ford Explorer\", 4, \"Henrietta\")\n",
    "\n",
    "henrietta.printAttribute()"
   ]
  },
  {
   "cell_type": "markdown",
   "metadata": {},
   "source": [
    "## Classes as Attributes <br>\n",
    "<p>Classes can also be used as attributes within another class. This is useful in situations where you need to keep variables locally stored, instead of globally stored.</p>"
   ]
  },
  {
   "cell_type": "code",
   "execution_count": 21,
   "metadata": {},
   "outputs": [
    {
     "name": "stdout",
     "output_type": "stream",
     "text": [
      "6\n"
     ]
    }
   ],
   "source": [
    "class Battery():\n",
    "    volts = 7.8\n",
    "    \n",
    "    def __init__(self, cells):\n",
    "        self.cells = cells\n",
    "class Car():\n",
    "    \n",
    "    def __init__(self, year, make, model, battery):\n",
    "        self.year = year\n",
    "        self.make = make\n",
    "        self.model = model\n",
    "        self.battery = battery\n",
    "        \n",
    "#now instantiate the battery class\n",
    "bat = Battery(6)\n",
    "tesla = Car(2019, \"Tesla\", \"Firebird\", bat)\n",
    "#that passes the bat variable into the car.\n",
    "print(tesla.battery.cells)"
   ]
  },
  {
   "cell_type": "markdown",
   "metadata": {},
   "source": [
    "# Exercises"
   ]
  },
  {
   "cell_type": "markdown",
   "metadata": {},
   "source": [
    "### Exercise 1 - Turn the shopping cart program from yesterday into an object-oriented program\n",
    "\n",
    "The comments in the cell below are there as a guide for thinking about the problem. However, if you feel a different way is best for you and your own thought process, please do what feels best for you by all means."
   ]
  },
  {
   "cell_type": "code",
   "execution_count": 1,
   "metadata": {},
   "outputs": [
    {
     "name": "stdout",
     "output_type": "stream",
     "text": [
      "here's your shopping cart. Tell us what you wanna do. \n",
      "Add, remove, show, and quit to quit.add\n",
      "What do you wanna buy today? cat\n",
      "here's your shopping cart. Tell us what you wanna do. \n",
      "Add, remove, show, and quit to quit.remove\n",
      "cat\n",
      "Type what you want to remove here: all\n",
      "That wasn't in your cart.\n",
      "here's your shopping cart. Tell us what you wanna do. \n",
      "Add, remove, show, and quit to quit.add\n",
      "What do you wanna buy today? banan\n",
      "here's your shopping cart. Tell us what you wanna do. \n",
      "Add, remove, show, and quit to quit.add\n",
      "What do you wanna buy today? fruit\n",
      "here's your shopping cart. Tell us what you wanna do. \n",
      "Add, remove, show, and quit to quit.add\n",
      "What do you wanna buy today? food\n",
      "here's your shopping cart. Tell us what you wanna do. \n",
      "Add, remove, show, and quit to quit.remove\n",
      "cat\n",
      "banan\n",
      "fruit\n",
      "food\n",
      "Type what you want to remove here: baaa\n",
      "That wasn't in your cart.\n",
      "here's your shopping cart. Tell us what you wanna do. \n",
      "Add, remove, show, and quit to quit.remove\n",
      "cat\n",
      "banan\n",
      "fruit\n",
      "food\n",
      "Type what you want to remove here: fruit\n",
      "We'll remove the following from your cart: fruit\n",
      "here's your shopping cart. Tell us what you wanna do. \n",
      "Add, remove, show, and quit to quit.quit\n",
      "Cool, you gave me $$$ for the following:\n",
      "cat\n",
      "banan\n",
      "food\n"
     ]
    }
   ],
   "source": [
    "from IPython.display import clear_output\n",
    "# have a class called cart that retains items and has methods to add, remove, and show\n",
    "\n",
    "# step #1: create the cart class\n",
    "class Cart():\n",
    "    def __init__(self, items):\n",
    "        self.items = items\n",
    "        \n",
    "    # create a method to show cart\n",
    "    def showCart(self):\n",
    "        print(\"Here's your shopping cart!\")\n",
    "        self.items\n",
    "        for i in self.items:\n",
    "            print(i)\n",
    "            \n",
    "    # create a method to add to cart\n",
    "    def addCart(self):\n",
    "        things = input(\"What do you wanna buy today? \")\n",
    "        self.items.append(things)\n",
    "        \n",
    "    # create a method to remove from cart\n",
    "    def delCart(self):\n",
    "        for i in self.items:\n",
    "            print(i)\n",
    "            self.items\n",
    "        remove = input(\"Type what you want to remove here: \")\n",
    "        self.items\n",
    "        for i in self.items:\n",
    "            if str(i) == str(remove):\n",
    "                print(\"We'll remove the following from your cart: {}\".format(i))\n",
    "                self.items.remove(i)\n",
    "            elif str(remove) not in self.items:\n",
    "                print(\"That wasn't in your cart.\")\n",
    "                break\n",
    "    def quit(self):\n",
    "        print(\"Cool, you gave me $$$ for the following:\")\n",
    "        self.items\n",
    "        for i in self.items:\n",
    "            print(i)\n",
    "        \n",
    "# create instance of cart object with empty list        \n",
    "horseshop = Cart([])\n",
    "\n",
    "# start the while loop until user quits\n",
    "    # ask for input\n",
    "while True:\n",
    "    print(\"here's your shopping cart. Tell us what you wanna do. \")\n",
    "    # ask if they would like to add, remove, show, perform steps using cart methods\n",
    "    user = \"\"\n",
    "    user = input(\"Add, remove, show, and quit to quit.\")\n",
    "    if user == \"quit\":\n",
    "        horseshop.quit()\n",
    "        break\n",
    "    elif str(user).lower() == \"add\":\n",
    "        horseshop.addCart()\n",
    "    elif str(user).lower() == \"remove\":\n",
    "        horseshop.delCart()\n",
    "    elif str(user).lower() == \"show\":\n",
    "        horseshop.showCart()\n",
    "        \n",
    "#could figure out how to add clear_ouput to make this prettier. \n",
    "        "
   ]
  },
  {
   "cell_type": "code",
   "execution_count": null,
   "metadata": {},
   "outputs": [],
   "source": []
  }
 ],
 "metadata": {
  "kernelspec": {
   "display_name": "Python 3",
   "language": "python",
   "name": "python3"
  },
  "language_info": {
   "codemirror_mode": {
    "name": "ipython",
    "version": 3
   },
   "file_extension": ".py",
   "mimetype": "text/x-python",
   "name": "python",
   "nbconvert_exporter": "python",
   "pygments_lexer": "ipython3",
   "version": "3.7.3"
  }
 },
 "nbformat": 4,
 "nbformat_minor": 2
}
